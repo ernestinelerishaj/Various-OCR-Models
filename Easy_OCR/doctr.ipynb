{
 "cells": [
  {
   "cell_type": "code",
   "execution_count": 4,
   "metadata": {},
   "outputs": [],
   "source": [
    "\n",
    "import torch"
   ]
  },
  {
   "cell_type": "code",
   "execution_count": 5,
   "metadata": {},
   "outputs": [],
   "source": [
    "from doctr.models import ocr_predictor\n",
    "from doctr.io import DocumentFile"
   ]
  },
  {
   "cell_type": "code",
   "execution_count": 6,
   "metadata": {},
   "outputs": [
    {
     "name": "stdout",
     "output_type": "stream",
     "text": [
      "Extracted Text:\n",
      "RAVE INDIA LTD.\n",
      "11/9. Jangpura, Bhogal New Delhi-110014\n",
      "GSTIN: 07AAFD8457JU3\n",
      "PAN NO. AAACR1789Q\n",
      "TAX INVOICE\n",
      "PARTY'S DETAILS:\n",
      "INVOICE NO.\n",
      "92512 / 2017-18\n",
      "M/S CONNECT MARKETING\n",
      "SARTIA VIHAR, NEW DELHI-110076\n",
      "GSTIN: 07NNFD8457103\n",
      "INVOICE DATE :\n",
      "15-02-2018\n",
      "Description of Goods\n",
      "HSN CODE\n",
      "QTY\n",
      "RATE\n",
      "AMOUNT\n",
      "TOTAL, AMOUNT\n",
      "Add: CGST\n",
      "14%\n",
      "Add: SGST\n",
      "14%\n",
      "GRAND TOTAL\n",
      "Total Amount (INR In Words):\n",
      "Twenty Three Thousand Only\n",
      "For RAVE INDIA LTD.\n",
      "Authorised Signatory\n"
     ]
    }
   ],
   "source": [
    "\n",
    "\n",
    "# Check if GPU is available and use it\n",
    "device = torch.device('cuda' if torch.cuda.is_available() else 'cpu')\n",
    "\n",
    "# Load your image (the path to the invoice image)\n",
    "image_path = 'testocr3.jpg'  # Update this with your image path\n",
    "doc = DocumentFile.from_images(image_path)\n",
    "\n",
    "# Load the Doctr OCR model\n",
    "model = ocr_predictor(pretrained=True).to(device)\n",
    "\n",
    "# Perform text detection and recognition\n",
    "result = model(doc)\n",
    "\n",
    "# Extract text and bounding boxes\n",
    "extracted_text = result.render()\n",
    "\n",
    "# Print the extracted text\n",
    "print(\"Extracted Text:\")\n",
    "print(extracted_text)\n"
   ]
  }
 ],
 "metadata": {
  "kernelspec": {
   "display_name": "drowsiness-detection",
   "language": "python",
   "name": "python3"
  },
  "language_info": {
   "codemirror_mode": {
    "name": "ipython",
    "version": 3
   },
   "file_extension": ".py",
   "mimetype": "text/x-python",
   "name": "python",
   "nbconvert_exporter": "python",
   "pygments_lexer": "ipython3",
   "version": "3.9.19"
  }
 },
 "nbformat": 4,
 "nbformat_minor": 2
}
